{
 "cells": [
  {
   "cell_type": "markdown",
   "metadata": {},
   "source": [
    "# Assignment 1 Solution"
   ]
  },
  {
   "cell_type": "code",
   "execution_count": 1,
   "metadata": {},
   "outputs": [],
   "source": [
    "import sqlite3\n",
    "\n",
    "sql = sqlite3.connect('Assignment1.sql')\n",
    "c = sql.cursor()\n",
    "\n",
    "c.execute('DROP TABLE IF EXISTS Ages')\n",
    "c.execute('''\n",
    "    CREATE TABLE Ages (\n",
    "        name VARCHAR(128),\n",
    "        age INTEGER\n",
    "    )\n",
    "''')\n",
    "\n",
    "sql.commit()\n",
    "sql.close()\n"
   ]
  },
  {
   "cell_type": "code",
   "execution_count": 2,
   "metadata": {},
   "outputs": [],
   "source": [
    "sql = sqlite3.connect('Assignment1.sql')\n",
    "c = sql.cursor()\n",
    "\n",
    "c.execute(\"INSERT INTO Ages (name, age) VALUES ('Mara', 28)\")\n",
    "c.execute(\"INSERT INTO Ages (name, age) VALUES ('Otto', 33)\")\n",
    "c.execute(\"INSERT INTO Ages (name, age) VALUES ('Fyn', 31)\")\n",
    "c.execute(\"INSERT INTO Ages (name, age) VALUES ('Neshawn', 17)\")\n",
    "\n",
    "sql.commit()\n",
    "sql.close()\n"
   ]
  },
  {
   "cell_type": "code",
   "execution_count": 3,
   "metadata": {},
   "outputs": [
    {
     "name": "stdout",
     "output_type": "stream",
     "text": [
      "Table COUNTS\n",
      "------------\n",
      "name | age\n",
      "------------\n",
      "Mara 28\n",
      "Otto 33\n",
      "Fyn 31\n",
      "Neshawn 17\n"
     ]
    }
   ],
   "source": [
    "sql = sqlite3.connect('Assignment1.sql')\n",
    "c = sql.cursor()\n",
    "\n",
    "c.execute(\"SELECT * FROM Ages\")\n",
    "print('''Table COUNTS\n",
    "------------\n",
    "name | age\n",
    "------------''')\n",
    "for name, age in c.fetchall():\n",
    "    print(f\"{name} {age}\")\n"
   ]
  },
  {
   "cell_type": "code",
   "execution_count": 4,
   "metadata": {},
   "outputs": [
    {
     "name": "stdout",
     "output_type": "stream",
     "text": [
      "46796E3331\n"
     ]
    }
   ],
   "source": [
    "\n",
    "c.execute(\"SELECT hex(name || age) AS X FROM Ages ORDER BY X\")\n",
    "result = c.fetchone()\n",
    "\n",
    "print(result[0])"
   ]
  },
  {
   "cell_type": "markdown",
   "metadata": {},
   "source": [
    "# Answer"
   ]
  },
  {
   "cell_type": "code",
   "execution_count": null,
   "metadata": {},
   "outputs": [],
   "source": []
  },
  {
   "cell_type": "code",
   "execution_count": null,
   "metadata": {},
   "outputs": [],
   "source": []
  }
 ],
 "metadata": {
  "kernelspec": {
   "display_name": "Python 3",
   "language": "python",
   "name": "python3"
  },
  "language_info": {
   "codemirror_mode": {
    "name": "ipython",
    "version": 3
   },
   "file_extension": ".py",
   "mimetype": "text/x-python",
   "name": "python",
   "nbconvert_exporter": "python",
   "pygments_lexer": "ipython3",
   "version": "3.7.6"
  }
 },
 "nbformat": 4,
 "nbformat_minor": 4
}
